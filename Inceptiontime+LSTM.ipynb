{
 "cells": [
  {
   "cell_type": "code",
   "execution_count": 1,
   "metadata": {
    "id": "dCLZgP8HzwIS"
   },
   "outputs": [],
   "source": [
    "import pandas as pd\n",
    "import numpy as np\n",
    "from sklearn.preprocessing import LabelEncoder\n",
    "import h5py\n",
    "from sklearn.model_selection import train_test_split\n",
    "from sklearn.metrics import accuracy_score, confusion_matrix, classification_report\n",
    "import tensorflow as tf\n",
    "from keras.layers import Input, Conv1D, MaxPooling1D, Flatten, Dense, concatenate, BatchNormalization,LSTM,Dropout,Reshape\n",
    "from keras.models import Model, Sequential\n",
    "from keras.regularizers import l2"
   ]
  },
  {
   "cell_type": "code",
   "execution_count": 2,
   "metadata": {
    "id": "vUNtCnQX2YRB"
   },
   "outputs": [],
   "source": [
    "# set seed for random state - group #\n",
    "seed = 23"
   ]
  },
  {
   "cell_type": "code",
   "execution_count": 3,
   "metadata": {
    "id": "3t_fIION2dgB"
   },
   "outputs": [],
   "source": [
    "def load_data(file_name, csv_file):\n",
    "\n",
    "    # read the csv file with labels\n",
    "    df = pd.read_csv(csv_file)\n",
    "\n",
    "    # get the number of samples\n",
    "    num_samples = min(df.shape[0], 20000)\n",
    "\n",
    "    # get the labels and encode them\n",
    "    y = LabelEncoder().fit_transform(df[\"trace_category\"])[:num_samples]\n",
    "    # y = y.reshape(len(y),1)\n",
    "\n",
    "    # read data into numpy arrays\n",
    "    data = []\n",
    "    dtfl = h5py.File(file_name, 'r')\n",
    "    for i in range(num_samples):\n",
    "        dataset = dtfl.get(\"STEAD_data/{}\".format(i))\n",
    "        data.append(np.array(dataset))\n",
    "    X = np.array(data)\n",
    "    \n",
    "    # train test split\n",
    "    X_train, X_test, y_train, y_test = train_test_split(X, y, test_size=0.3, random_state=seed)\n",
    "\n",
    "    # no preprocessing required, so return the splits\n",
    "    return X_train, X_test, y_train, y_test"
   ]
  },
  {
   "cell_type": "code",
   "execution_count": 4,
   "metadata": {
    "id": "7ca-Wv_j2gbh"
   },
   "outputs": [],
   "source": [
    "# dataset file name here - hdf5 file\n",
    "file_name = r\"C:\\Users\\krish\\OneDrive\\Documents\\spring23\\DM\\CSE572-Project\\CSE572-Project\\STEAD_data.hdf5\"\n",
    "\n",
    "# name of the csv file with labels \n",
    "csv_file = r\"C:\\Users\\krish\\OneDrive\\Documents\\spring23\\DM\\CSE572-Project\\CSE572-Project\\STEAD_labels.csv\"\n",
    "\n",
    "# load the data\n",
    "X_train, X_test, y_train, y_test = load_data(file_name=file_name, csv_file=csv_file)"
   ]
  },
  {
   "cell_type": "code",
   "execution_count": 6,
   "metadata": {
    "colab": {
     "base_uri": "https://localhost:8080/"
    },
    "id": "dZCowdx584bj",
    "outputId": "ceee817c-bcc9-4dc5-c4b0-6720da34ed38"
   },
   "outputs": [
    {
     "name": "stdout",
     "output_type": "stream",
     "text": [
      "(13042, 6000, 3)\n",
      "(13042,)\n"
     ]
    }
   ],
   "source": [
    "print(X_train.shape)\n",
    "print(y_train.shape)"
   ]
  },
  {
   "cell_type": "code",
   "execution_count": 5,
   "metadata": {
    "id": "kcdusED9fgAn"
   },
   "outputs": [],
   "source": [
    "callback = tf.keras.callbacks.EarlyStopping(monitor='val_loss', patience=5, restore_best_weights=True)"
   ]
  },
  {
   "cell_type": "code",
   "execution_count": null,
   "metadata": {
    "id": "VDHOkEBqW5mR"
   },
   "outputs": [],
   "source": [
    "# # reshape data for nn\n",
    "# X_train_cnn = X_train.reshape(X_train.shape[0], X_train.shape[1], 1)\n",
    "# X_test_cnn = X_test.reshape(X_test.shape[0], X_test.shape[1], 1)"
   ]
  },
  {
   "cell_type": "code",
   "execution_count": 10,
   "metadata": {
    "colab": {
     "base_uri": "https://localhost:8080/"
    },
    "id": "P19OxKhbThH-",
    "outputId": "b73268fd-925c-4aed-a723-991da35fc276"
   },
   "outputs": [
    {
     "name": "stdout",
     "output_type": "stream",
     "text": [
      "Model: \"model_1\"\n",
      "_________________________________________________________________\n",
      " Layer (type)                Output Shape              Param #   \n",
      "=================================================================\n",
      " input_3 (InputLayer)        [(None, 6000, 3)]         0         \n",
      "                                                                 \n",
      " conv1d_50 (Conv1D)          (None, 6000, 16)          64        \n",
      "                                                                 \n",
      " batch_normalization_2 (Batc  (None, 6000, 16)         64        \n",
      " hNormalization)                                                 \n",
      "                                                                 \n",
      " inception_block_16 (Incepti  (None, 6000, 16)         396       \n",
      " onBlock)                                                        \n",
      "                                                                 \n",
      " inception_block_17 (Incepti  (None, 6000, 16)         396       \n",
      " onBlock)                                                        \n",
      "                                                                 \n",
      " dropout_8 (Dropout)         (None, 6000, 16)          0         \n",
      "                                                                 \n",
      " inception_block_18 (Incepti  (None, 6000, 32)         792       \n",
      " onBlock)                                                        \n",
      "                                                                 \n",
      " inception_block_19 (Incepti  (None, 6000, 32)         1560      \n",
      " onBlock)                                                        \n",
      "                                                                 \n",
      " dropout_9 (Dropout)         (None, 6000, 32)          0         \n",
      "                                                                 \n",
      " inception_block_20 (Incepti  (None, 6000, 64)         3120      \n",
      " onBlock)                                                        \n",
      "                                                                 \n",
      " inception_block_21 (Incepti  (None, 6000, 64)         6192      \n",
      " onBlock)                                                        \n",
      "                                                                 \n",
      " dropout_10 (Dropout)        (None, 6000, 64)          0         \n",
      "                                                                 \n",
      " inception_block_22 (Incepti  (None, 6000, 128)        12384     \n",
      " onBlock)                                                        \n",
      "                                                                 \n",
      " inception_block_23 (Incepti  (None, 6000, 128)        24672     \n",
      " onBlock)                                                        \n",
      "                                                                 \n",
      " dropout_11 (Dropout)        (None, 6000, 128)         0         \n",
      "                                                                 \n",
      " global_average_pooling1d_2   (None, 128)              0         \n",
      " (GlobalAveragePooling1D)                                        \n",
      "                                                                 \n",
      " reshape_2 (Reshape)         (None, 128, 1)            0         \n",
      "                                                                 \n",
      " lstm_2 (LSTM)               (None, 128, 32)           4352      \n",
      "                                                                 \n",
      " lstm_3 (LSTM)               (None, 16)                3136      \n",
      "                                                                 \n",
      " dense_2 (Dense)             (None, 8)                 136       \n",
      "                                                                 \n",
      " dense_3 (Dense)             (None, 1)                 9         \n",
      "                                                                 \n",
      "=================================================================\n",
      "Total params: 57,273\n",
      "Trainable params: 57,241\n",
      "Non-trainable params: 32\n",
      "_________________________________________________________________\n"
     ]
    }
   ],
   "source": [
    "import tensorflow as tf\n",
    "from tensorflow.keras import layers\n",
    "from keras import regularizers\n",
    "\n",
    "\n",
    "class InceptionBlock(tf.keras.Model):\n",
    "    def __init__(self, n_filters):\n",
    "        super(InceptionBlock, self).__init__()\n",
    "        self.conv1 = layers.Conv1D(filters=n_filters//4, kernel_size=1, activation='relu')\n",
    "        self.conv2 = layers.Conv1D(filters=n_filters//4, kernel_size=2, padding='same', activation='relu')\n",
    "        self.conv3 = layers.Conv1D(filters=n_filters//4, kernel_size=3, padding='same', activation='relu')\n",
    "        self.maxpool = layers.MaxPooling1D(pool_size=3, strides=1, padding='same')\n",
    "        self.concat = layers.Concatenate(axis=-1)\n",
    "        \n",
    "    def call(self, inputs):\n",
    "        x1 = self.conv1(inputs)\n",
    "        x2 = self.conv2(inputs)\n",
    "        x3 = self.conv3(inputs)\n",
    "        x4 = self.maxpool(inputs)\n",
    "        x4 = self.conv1(x4)\n",
    "        x = self.concat([x1, x2, x3, x4])\n",
    "        return x\n",
    "\n",
    "\n",
    "def build_inception_time(input_shape, num_classes):\n",
    "    inputs = layers.Input(shape=input_shape)\n",
    "    \n",
    "    x = inputs\n",
    "    x = layers.Conv1D(filters=16, kernel_size=1, activation='relu')(x)\n",
    "    x = layers.BatchNormalization()(x)\n",
    "    \n",
    "    # Inception Blocks\n",
    "    x = InceptionBlock(n_filters=16)(x)\n",
    "    x = InceptionBlock(n_filters=16)(x)\n",
    "    x = layers.Dropout(0.5)(x)\n",
    "    \n",
    "    x = InceptionBlock(n_filters=32)(x)\n",
    "    x = InceptionBlock(n_filters=32)(x)\n",
    "    x = layers.Dropout(0.5)(x)\n",
    "    \n",
    "    x = InceptionBlock(n_filters=64)(x)\n",
    "    x = InceptionBlock(n_filters=64)(x)\n",
    "    x = layers.Dropout(0.5)(x)\n",
    "    \n",
    "    x = InceptionBlock(n_filters=128)(x)\n",
    "    x = InceptionBlock(n_filters=128)(x)\n",
    "    x = layers.Dropout(0.5)(x)\n",
    "    \n",
    "    x = layers.GlobalAveragePooling1D()(x)\n",
    "    \n",
    "    # Append LSTM layers with dropout and kernel regularization\n",
    "    x = layers.Reshape((-1, 1))(x)\n",
    "    x = layers.LSTM(32, return_sequences=True, kernel_regularizer=regularizers.L2(0.01))(x)\n",
    "    x = layers.LSTM(16, kernel_regularizer=regularizers.L2(0.01))(x)\n",
    "    # Dense layers with kernel regularization\n",
    "    x = layers.Dense(8, activation='relu', kernel_regularizer=regularizers.L2(0.01))(x)\n",
    "    x = layers.Dense(1, activation='sigmoid', kernel_regularizer=regularizers.L2(0.01))(x)\n",
    "\n",
    "    outputs = x\n",
    "\n",
    "    model = tf.keras.Model(inputs=inputs, outputs=outputs)\n",
    "\n",
    "    return model\n",
    "\n",
    "model = build_inception_time((6000,3),2)\n",
    "model.compile(loss='binary_crossentropy', optimizer='adam', metrics=['accuracy'])\n",
    "model.summary()\n"
   ]
  },
  {
   "cell_type": "code",
   "execution_count": null,
   "metadata": {
    "colab": {
     "base_uri": "https://localhost:8080/"
    },
    "id": "RYw11w00Uzug",
    "outputId": "da683b65-e412-4879-d5a5-d665294c81ee"
   },
   "outputs": [
    {
     "name": "stdout",
     "output_type": "stream",
     "text": [
      "Epoch 1/50\n",
      "17/82 [=====>........................] - ETA: 10:01 - loss: 0.6945 - accuracy: 0.6006"
     ]
    }
   ],
   "source": [
    "history = model.fit(X_train, y_train, epochs=50, batch_size=128, validation_split=0.2, callbacks=[callback])"
   ]
  },
  {
   "cell_type": "code",
   "execution_count": 13,
   "metadata": {
    "colab": {
     "base_uri": "https://localhost:8080/"
    },
    "id": "pljc6tsXa4zi",
    "outputId": "bc424ad4-910f-4f22-c7ee-01eea24621fc"
   },
   "outputs": [
    {
     "name": "stdout",
     "output_type": "stream",
     "text": [
      "175/175 [==============================] - 84s 347ms/step\n"
     ]
    }
   ],
   "source": [
    "y_pred_cnn = list(map(lambda y: round(y), model.predict(X_test).flatten()))"
   ]
  },
  {
   "cell_type": "code",
   "execution_count": 14,
   "metadata": {
    "colab": {
     "base_uri": "https://localhost:8080/"
    },
    "id": "mX0aqFHEbUOk",
    "outputId": "4daaf456-4551-4df7-a3f0-76f6b4f602b6"
   },
   "outputs": [
    {
     "name": "stdout",
     "output_type": "stream",
     "text": [
      "Classification report for CNN: \n",
      "              precision    recall  f1-score   support\n",
      "\n",
      "           0       0.50      1.00      0.67      2786\n",
      "           1       0.00      0.00      0.00      2804\n",
      "\n",
      "    accuracy                           0.50      5590\n",
      "   macro avg       0.25      0.50      0.33      5590\n",
      "weighted avg       0.25      0.50      0.33      5590\n",
      "\n"
     ]
    },
    {
     "name": "stderr",
     "output_type": "stream",
     "text": [
      "C:\\Users\\krish\\anaconda3\\lib\\site-packages\\sklearn\\metrics\\_classification.py:1344: UndefinedMetricWarning: Precision and F-score are ill-defined and being set to 0.0 in labels with no predicted samples. Use `zero_division` parameter to control this behavior.\n",
      "  _warn_prf(average, modifier, msg_start, len(result))\n",
      "C:\\Users\\krish\\anaconda3\\lib\\site-packages\\sklearn\\metrics\\_classification.py:1344: UndefinedMetricWarning: Precision and F-score are ill-defined and being set to 0.0 in labels with no predicted samples. Use `zero_division` parameter to control this behavior.\n",
      "  _warn_prf(average, modifier, msg_start, len(result))\n",
      "C:\\Users\\krish\\anaconda3\\lib\\site-packages\\sklearn\\metrics\\_classification.py:1344: UndefinedMetricWarning: Precision and F-score are ill-defined and being set to 0.0 in labels with no predicted samples. Use `zero_division` parameter to control this behavior.\n",
      "  _warn_prf(average, modifier, msg_start, len(result))\n"
     ]
    }
   ],
   "source": [
    "print(\"Classification report for CNN: \")\n",
    "print(classification_report(y_test, y_pred_cnn))"
   ]
  }
 ],
 "metadata": {
  "accelerator": "GPU",
  "colab": {
   "gpuType": "T4",
   "provenance": []
  },
  "gpuClass": "standard",
  "kernelspec": {
   "display_name": "Python 3 (ipykernel)",
   "language": "python",
   "name": "python3"
  },
  "language_info": {
   "codemirror_mode": {
    "name": "ipython",
    "version": 3
   },
   "file_extension": ".py",
   "mimetype": "text/x-python",
   "name": "python",
   "nbconvert_exporter": "python",
   "pygments_lexer": "ipython3",
   "version": "3.10.9"
  }
 },
 "nbformat": 4,
 "nbformat_minor": 1
}
